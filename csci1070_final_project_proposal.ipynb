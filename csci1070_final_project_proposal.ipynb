{
 "cells": [
  {
   "cell_type": "markdown",
   "id": "65ff282a-b977-4de8-adba-b9858d877930",
   "metadata": {},
   "source": [
    "1. I'm working with Gavin Edwards on this. Coordination should not be hard as we have each other's contact information and live in the same building.\n",
    "2. We are using the Shradar fund Price dataset on Nasdaq.\n",
    "3. Null hypothesis: The opening and closing prices of as tock in the past will not effect future opening and closing prices. Alternative hypotehsis: the and closing prices of a stock will effect future opning and closing prices.\n",
    "4. Models we plan on using: multi variate linear regression, boosting and bagging, and potentially knn\n",
    "5. link to the data: https://data.nasdaq.com/databases/SFP "
   ]
  },
  {
   "cell_type": "code",
   "execution_count": null,
   "id": "253dff66-d717-4a53-8c0e-8fe5a1cacd41",
   "metadata": {},
   "outputs": [],
   "source": []
  }
 ],
 "metadata": {
  "kernelspec": {
   "display_name": "Python 3 (ipykernel)",
   "language": "python",
   "name": "python3"
  },
  "language_info": {
   "codemirror_mode": {
    "name": "ipython",
    "version": 3
   },
   "file_extension": ".py",
   "mimetype": "text/x-python",
   "name": "python",
   "nbconvert_exporter": "python",
   "pygments_lexer": "ipython3",
   "version": "3.9.1"
  }
 },
 "nbformat": 4,
 "nbformat_minor": 5
}
