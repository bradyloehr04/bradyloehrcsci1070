{
 "cells": [
  {
   "cell_type": "code",
   "execution_count": 41,
   "id": "4c2f4edd-7a8b-4665-9adc-54318ec26e7c",
   "metadata": {},
   "outputs": [
    {
     "name": "stdout",
     "output_type": "stream",
     "text": [
      "My computer has gone crazy and added extra symbols.\n"
     ]
    }
   ],
   "source": [
    "#1. \n",
    "asterisk = 'My *compu*ter has go*ne craz***y an*d add*ed extra *symbols.*'\n",
    "\n",
    "result = ''\n",
    "for char in asterisk:\n",
    "    if char != '*':\n",
    "        result += char\n",
    "\n",
    "print(result)"
   ]
  },
  {
   "cell_type": "code",
   "execution_count": 3,
   "id": "9545a678-6691-4d16-90f7-2c05080fb647",
   "metadata": {},
   "outputs": [
    {
     "name": "stdout",
     "output_type": "stream",
     "text": [
      "7\n"
     ]
    }
   ],
   "source": [
    "#2. \n",
    "counter = 0\n",
    "\n",
    "while counter < 7:\n",
    "    counter += 1\n",
    "\n",
    "print(counter)"
   ]
  },
  {
   "cell_type": "code",
   "execution_count": 6,
   "id": "c91749b0-9b7b-41d1-b601-3c008282cbfc",
   "metadata": {},
   "outputs": [
    {
     "name": "stdout",
     "output_type": "stream",
     "text": [
      "['cat', 'dog', ['mouse', 'bat'], ['elephant', 'dog', 'whale', 'lion', 32], 'bird', []]\n"
     ]
    }
   ],
   "source": [
    "#3.\n",
    "double_trouble = ['cat', 'dog', ['mouse', 'mosquito', 'bat', 'mosquito'],\n",
    "                  ['elephant', 'dog', 'whale', 'lion', 32, 'mosquito'], 'bird', [], 'mosquito']\n",
    "\n",
    "good_list = []\n",
    "\n",
    "for item in double_trouble:\n",
    "    if isinstance(item, list):\n",
    "        good_sublist = [subitem for subitem in item if subitem != 'mosquito']\n",
    "        good_list.append(good_sublist)\n",
    "    else:\n",
    "        if item != 'mosquito':\n",
    "            good_list.append(item)\n",
    "\n",
    "print(good_list)"
   ]
  },
  {
   "cell_type": "code",
   "execution_count": 15,
   "id": "b2ae66b1-a904-4ab3-b02c-9af72c6fd50f",
   "metadata": {},
   "outputs": [
    {
     "name": "stdout",
     "output_type": "stream",
     "text": [
      "14\n"
     ]
    }
   ],
   "source": [
    "#4. \n",
    "def even_odd_equation(num1, num2):\n",
    "    if not isinstance(num1, int) or not isinstance(num2, int):\n",
    "        return \"Input is not valid. Please use integers.\"\n",
    "\n",
    "    if num1 % 2 == 0 and num2 % 2 == 0:\n",
    "        result = num1 + num2\n",
    "    else:\n",
    "        result = num1 - num2\n",
    "\n",
    "    return result\n",
    "\n",
    "#example:\n",
    "num1=8\n",
    "num2=6\n",
    "result=even_odd_equation(num1, num2)\n",
    "print(result)\n"
   ]
  },
  {
   "cell_type": "code",
   "execution_count": 22,
   "id": "8ada8eee-9d74-4593-b8c6-788e8a06d7aa",
   "metadata": {},
   "outputs": [
    {
     "name": "stdout",
     "output_type": "stream",
     "text": [
      "* * * * * \n",
      "* * * * \n",
      "* * * \n",
      "* * \n",
      "* \n",
      "\n",
      "* \n",
      "* * \n",
      "* * * \n",
      "* * * * \n",
      "* * * * * \n"
     ]
    }
   ],
   "source": [
    "#5.\n",
    "def triangles(n, direction):\n",
    "    if direction == \"base-up\":\n",
    "        for i in range(n, 0, -1):\n",
    "            print(\"* \" * i)\n",
    "    elif direction == \"base-down\":\n",
    "        for i in range(1, n + 1):\n",
    "            print(\"* \" * i)\n",
    "    else:\n",
    "        print(\"Invalid direction. Please choose 'base-up' or 'base-down'.\")\n",
    "\n",
    "#example:\n",
    "triangles(5, \"base-up\")\n",
    "print()\n",
    "triangles(5, \"base-down\")"
   ]
  },
  {
   "cell_type": "code",
   "execution_count": 23,
   "id": "1625e95d-3162-45f4-8644-24b52407d32f",
   "metadata": {},
   "outputs": [
    {
     "name": "stdout",
     "output_type": "stream",
     "text": [
      "19\n"
     ]
    }
   ],
   "source": [
    "#6.\n",
    "class Person():\n",
    "    \n",
    "    def __init__(self, name, occupation, country, age):\n",
    "        self.name = name\n",
    "        self.occupation = occupation\n",
    "        self.country = country\n",
    "        self.age = age  \n",
    "\n",
    "person_instance = Person(name=\"Brady\", occupation=\"student\", country=\"USA\", age=19)\n",
    "\n",
    "print(person_instance.age)"
   ]
  },
  {
   "cell_type": "code",
   "execution_count": 25,
   "id": "67e9324b-4e3d-441d-b6cc-04198a7e0c3e",
   "metadata": {},
   "outputs": [
    {
     "name": "stdout",
     "output_type": "stream",
     "text": [
      "Meryl Streep: This is my line...\n",
      "Static Method.\n"
     ]
    }
   ],
   "source": [
    "#7.\n",
    "# Static method class is a method that belongs to the class rather than an instance of the class. \n",
    "\n",
    "class Actress():\n",
    "    def __init__(self, name='Meryl Streep'):\n",
    "        self.name = name\n",
    "\n",
    "    def act(self, line):\n",
    "        print(f'{self.name}: {line}')\n",
    "\n",
    "    @staticmethod\n",
    "    def explanation():\n",
    "        print(\"Static Method.\")\n",
    "\n",
    "meryl = Actress()\n",
    "\n",
    "meryl.act('This is my line...')\n",
    "\n",
    "Actress.explanation()"
   ]
  },
  {
   "cell_type": "code",
   "execution_count": 26,
   "id": "9dba7187-d0e0-41a3-b486-7000f2636842",
   "metadata": {},
   "outputs": [
    {
     "name": "stdout",
     "output_type": "stream",
     "text": [
      "Results: [2, 4, 1, 2]\n"
     ]
    }
   ],
   "source": [
    "#8.\n",
    "import random\n",
    "\n",
    "class Dice:\n",
    "    def __init__(self, number_of_dice):\n",
    "        self.number_of_dice = number_of_dice\n",
    "        self.dice = [] \n",
    "\n",
    "    def roll(self):\n",
    "        self.dice = [random.randint(1, 6) for _ in range(self.number_of_dice)]\n",
    "        print(\"Results:\", self.dice)\n",
    "\n",
    "#example:\n",
    "dice_instance = Dice(number_of_dice=4)\n",
    "\n",
    "dice_instance.roll()"
   ]
  },
  {
   "cell_type": "code",
   "execution_count": 40,
   "id": "d57d118b-7257-4d0b-b114-fdcf6f983867",
   "metadata": {},
   "outputs": [
    {
     "name": "stdout",
     "output_type": "stream",
     "text": [
      "Make of Dream Car: Lamborghini\n",
      "\n",
      "Attributes and Methods of Dream Car Object:\n",
      "['__class__', '__delattr__', '__dict__', '__dir__', '__doc__', '__eq__', '__format__', '__ge__', '__getattribute__', '__gt__', '__hash__', '__init__', '__init_subclass__', '__le__', '__lt__', '__module__', '__ne__', '__new__', '__reduce__', '__reduce_ex__', '__repr__', '__setattr__', '__sizeof__', '__str__', '__subclasshook__', '__weakref__']\n"
     ]
    }
   ],
   "source": [
    "#Bonus\n",
    "class Car:\n",
    "    def __init__(self, make, model, year):\n",
    "        self.make = 'Lamborghini'\n",
    "        self.model = 'Aventador'\n",
    "        self.year = 2020\n",
    "\n",
    "dream_car = Car(make=\"Lamborghini\", model=\"Aventador\", year=2020)\n",
    "\n",
    "print(\"Make of Dream Car:\", dream_car.make)\n",
    "\n",
    "print(\"\\nAttributes and Methods of Dream Car Object:\")\n",
    "print(dir(Car))"
   ]
  },
  {
   "cell_type": "code",
   "execution_count": null,
   "id": "113e95d0-2f17-49d4-a4cd-8a44bb4e512b",
   "metadata": {},
   "outputs": [],
   "source": []
  }
 ],
 "metadata": {
  "kernelspec": {
   "display_name": "Python 3 (ipykernel)",
   "language": "python",
   "name": "python3"
  },
  "language_info": {
   "codemirror_mode": {
    "name": "ipython",
    "version": 3
   },
   "file_extension": ".py",
   "mimetype": "text/x-python",
   "name": "python",
   "nbconvert_exporter": "python",
   "pygments_lexer": "ipython3",
   "version": "3.9.1"
  }
 },
 "nbformat": 4,
 "nbformat_minor": 5
}
