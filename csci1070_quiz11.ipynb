{
 "cells": [
  {
   "cell_type": "code",
   "execution_count": 16,
   "id": "d459bbfc-6846-4bc6-b8ce-d3c3cd5f3c6e",
   "metadata": {},
   "outputs": [
    {
     "name": "stdout",
     "output_type": "stream",
     "text": [
      "['a', 'b']\n"
     ]
    }
   ],
   "source": [
    "#1\n",
    "def number_filterer(values):\n",
    "    non_numeric_values = []\n",
    "    for value in values:\n",
    "        if not isinstance(value, (int, float)):\n",
    "            non_numeric_values.append(value)\n",
    "    return non_numeric_values\n",
    "\n",
    "input_list = [1, 2, 'a', 'b', 7.6]\n",
    "output_list = number_filterer(input_list)\n",
    "print(output_list)"
   ]
  },
  {
   "cell_type": "code",
   "execution_count": 18,
   "id": "4e98444d-0f82-44a4-8898-49444ca4d9dc",
   "metadata": {},
   "outputs": [
    {
     "ename": "NameError",
     "evalue": "name 'List' is not defined",
     "output_type": "error",
     "traceback": [
      "\u001b[1;31m---------------------------------------------------------------------------\u001b[0m",
      "\u001b[1;31mNameError\u001b[0m                                 Traceback (most recent call last)",
      "Cell \u001b[1;32mIn[18], line 2\u001b[0m\n\u001b[0;32m      1\u001b[0m \u001b[38;5;66;03m#2\u001b[39;00m\n\u001b[1;32m----> 2\u001b[0m \u001b[38;5;28;01mdef\u001b[39;00m \u001b[38;5;21mfizzbuzz\u001b[39m(n: \u001b[38;5;28mint\u001b[39m) \u001b[38;5;241m-\u001b[39m\u001b[38;5;241m>\u001b[39m \u001b[43mList\u001b[49m[Union[\u001b[38;5;28mint\u001b[39m, Tuple[\u001b[38;5;28mint\u001b[39m, \u001b[38;5;28mstr\u001b[39m]]]:\n\u001b[0;32m      3\u001b[0m \u001b[38;5;250m    \u001b[39m\u001b[38;5;124;03m'''\u001b[39;00m\n\u001b[0;32m      4\u001b[0m \u001b[38;5;124;03m    iterates through each number in a range(starting from 1 and going up to and including n) and determines if it is divisble by 3, 5, or both. If the number is divisble by 3, it returns the number\u001b[39;00m\n\u001b[0;32m      5\u001b[0m \u001b[38;5;124;03m    and the word 'fizz'. if the number is divisble by 5, it returns the number and the word 'buzz'. if the number is divisible by both, it returns \u001b[39;00m\n\u001b[0;32m      6\u001b[0m \u001b[38;5;124;03m    the number and the word 'fizzbuzz'. if the number is not divisible by either number, the functions only returns the number\u001b[39;00m\n\u001b[0;32m      7\u001b[0m \u001b[38;5;124;03m    '''\u001b[39;00m\n\u001b[0;32m      8\u001b[0m     result \u001b[38;5;241m=\u001b[39m []\n",
      "\u001b[1;31mNameError\u001b[0m: name 'List' is not defined"
     ]
    }
   ],
   "source": [
    "#2\n",
    "def fizzbuzz(n: int) -> List[Union[int, Tuple[int, str]]]:\n",
    "    '''\n",
    "    iterates through each number in a range(starting from 1 and going up to and including n) and determines if it is divisble by 3, 5, or both. If the number is divisble by 3, it returns the number\n",
    "    and the word 'fizz'. if the number is divisble by 5, it returns the number and the word 'buzz'. if the number is divisible by both, it returns \n",
    "    the number and the word 'fizzbuzz'. if the number is not divisible by either number, the functions only returns the number\n",
    "    '''\n",
    "    result = []\n",
    "    for num in range(1, n+1):\n",
    "        if num % 3 == 0 and num % 5 == 0:\n",
    "            result.append((num, 'fizzbuzz'))\n",
    "        elif num % 3 == 0:\n",
    "            result.append((num, 'fizz'))\n",
    "        elif num % 5 == 0:\n",
    "            result.append((num, 'buzz'))\n",
    "        else:\n",
    "            result.append(num)\n",
    "    return result\n",
    "\n",
    "print(fizzbuzz(30))"
   ]
  },
  {
   "cell_type": "code",
   "execution_count": null,
   "id": "a1523900-4c29-4cc0-a566-55a6ea3abe4c",
   "metadata": {},
   "outputs": [],
   "source": []
  }
 ],
 "metadata": {
  "kernelspec": {
   "display_name": "Python 3 (ipykernel)",
   "language": "python",
   "name": "python3"
  },
  "language_info": {
   "codemirror_mode": {
    "name": "ipython",
    "version": 3
   },
   "file_extension": ".py",
   "mimetype": "text/x-python",
   "name": "python",
   "nbconvert_exporter": "python",
   "pygments_lexer": "ipython3",
   "version": "3.9.1"
  }
 },
 "nbformat": 4,
 "nbformat_minor": 5
}
