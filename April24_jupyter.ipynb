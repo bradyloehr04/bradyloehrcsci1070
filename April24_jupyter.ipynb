{
 "cells": [
  {
   "cell_type": "markdown",
   "id": "e44b5adc-601c-4569-8bbb-f61cb5ef24ad",
   "metadata": {},
   "source": [
    "A neural network is a process that mimics the process of the human brain\n",
    "a loss function is a function that takes all aspects of the model and condenses them into one number, a number which we can use as a measurement to determine how good a model is. loss functions are essential to calculating and minimizing error\n",
    "there are multiple types of loss functions such as maximum likelihood or maximum likelihood and cross-entropy also referred to as logarithmic loss.\n",
    "We used cross-entropy on the diabaetes dataset as our outcome is binary"
   ]
  }
 ],
 "metadata": {
  "kernelspec": {
   "display_name": "Python 3 (ipykernel)",
   "language": "python",
   "name": "python3"
  },
  "language_info": {
   "codemirror_mode": {
    "name": "ipython",
    "version": 3
   },
   "file_extension": ".py",
   "mimetype": "text/x-python",
   "name": "python",
   "nbconvert_exporter": "python",
   "pygments_lexer": "ipython3",
   "version": "3.9.1"
  }
 },
 "nbformat": 4,
 "nbformat_minor": 5
}
