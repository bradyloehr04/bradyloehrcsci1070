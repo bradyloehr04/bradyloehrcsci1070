{
 "cells": [
  {
   "cell_type": "code",
   "execution_count": 1,
   "id": "f2c86e97-7f7a-41e9-bdd6-20e08fed393e",
   "metadata": {},
   "outputs": [],
   "source": [
    "import numpy as np\n",
    "import sklearn as sk\n",
    "import os\n",
    "import math\n",
    "import statistics\n",
    "from scipy import stats\n",
    "import matplotlib.pyplot as plt\n",
    "from sklearn.model_selection import train_test_split\n",
    "from sklearn.model_selection import cross_val_score\n",
    "import seaborn as sns\n",
    "from sklearn.linear_model import LinearRegression\n",
    "from sklearn.linear_model import LogisticRegression\n",
    "from sklearn.metrics import r2_score\n",
    "import pandas as pd\n",
    "import requests\n",
    "from io import StringIO\n",
    "from sklearn.neighbors import KNeighborsClassifier\n",
    "from sklearn.model_selection import train_test_split\n",
    "from sklearn.metrics import confusion_matrix, ConfusionMatrixDisplay\n",
    "from statsmodels.formula.api import logit\n",
    "from sklearn.preprocessing import StandardScaler\n",
    "from imblearn.over_sampling import RandomOverSampler \n",
    "from imblearn.under_sampling import ClusterCentroids\n",
    "from sklearn import tree\n",
    "from sklearn.ensemble import RandomForestClassifier\n",
    "from sklearn.metrics import roc_curve, auc\n",
    "from sklearn.svm import SVC\n",
    "from sklearn.metrics import accuracy_score, precision_score, recall_score, f1_score\n",
    "from xgboost import XGBClassifier\n",
    "from sklearn.tree import plot_tree\n",
    "from sklearn.decomposition import TruncatedSVD\n",
    "from datetime import datetime\n",
    "from sklearn.cluster import KMeans\n",
    "from scipy.cluster.hierarchy import dendrogram, linkage\n",
    "from sklearn.metrics import silhouette_score\n",
    "from scipy.spatial.distance import cdist\n",
    "from sklearn.cluster import AgglomerativeClustering"
   ]
  },
  {
   "cell_type": "code",
   "execution_count": 2,
   "id": "209d30db-c0a2-46d0-8211-cb0e2b469976",
   "metadata": {},
   "outputs": [
    {
     "data": {
      "text/html": [
       "<div>\n",
       "<style scoped>\n",
       "    .dataframe tbody tr th:only-of-type {\n",
       "        vertical-align: middle;\n",
       "    }\n",
       "\n",
       "    .dataframe tbody tr th {\n",
       "        vertical-align: top;\n",
       "    }\n",
       "\n",
       "    .dataframe thead th {\n",
       "        text-align: right;\n",
       "    }\n",
       "</style>\n",
       "<table border=\"1\" class=\"dataframe\">\n",
       "  <thead>\n",
       "    <tr style=\"text-align: right;\">\n",
       "      <th></th>\n",
       "      <th>ID</th>\n",
       "      <th>Year_Birth</th>\n",
       "      <th>Education</th>\n",
       "      <th>Marital_Status</th>\n",
       "      <th>Income</th>\n",
       "      <th>Kidhome</th>\n",
       "      <th>Teenhome</th>\n",
       "      <th>Dt_Customer</th>\n",
       "      <th>Recency</th>\n",
       "      <th>MntWines</th>\n",
       "      <th>...</th>\n",
       "      <th>NumWebVisitsMonth</th>\n",
       "      <th>AcceptedCmp3</th>\n",
       "      <th>AcceptedCmp4</th>\n",
       "      <th>AcceptedCmp5</th>\n",
       "      <th>AcceptedCmp1</th>\n",
       "      <th>AcceptedCmp2</th>\n",
       "      <th>Complain</th>\n",
       "      <th>Z_CostContact</th>\n",
       "      <th>Z_Revenue</th>\n",
       "      <th>Response</th>\n",
       "    </tr>\n",
       "  </thead>\n",
       "  <tbody>\n",
       "    <tr>\n",
       "      <th>0</th>\n",
       "      <td>5524</td>\n",
       "      <td>1957</td>\n",
       "      <td>Graduation</td>\n",
       "      <td>Single</td>\n",
       "      <td>58138.0</td>\n",
       "      <td>0</td>\n",
       "      <td>0</td>\n",
       "      <td>04-09-2012</td>\n",
       "      <td>58</td>\n",
       "      <td>635</td>\n",
       "      <td>...</td>\n",
       "      <td>7</td>\n",
       "      <td>0</td>\n",
       "      <td>0</td>\n",
       "      <td>0</td>\n",
       "      <td>0</td>\n",
       "      <td>0</td>\n",
       "      <td>0</td>\n",
       "      <td>3</td>\n",
       "      <td>11</td>\n",
       "      <td>1</td>\n",
       "    </tr>\n",
       "    <tr>\n",
       "      <th>1</th>\n",
       "      <td>2174</td>\n",
       "      <td>1954</td>\n",
       "      <td>Graduation</td>\n",
       "      <td>Single</td>\n",
       "      <td>46344.0</td>\n",
       "      <td>1</td>\n",
       "      <td>1</td>\n",
       "      <td>08-03-2014</td>\n",
       "      <td>38</td>\n",
       "      <td>11</td>\n",
       "      <td>...</td>\n",
       "      <td>5</td>\n",
       "      <td>0</td>\n",
       "      <td>0</td>\n",
       "      <td>0</td>\n",
       "      <td>0</td>\n",
       "      <td>0</td>\n",
       "      <td>0</td>\n",
       "      <td>3</td>\n",
       "      <td>11</td>\n",
       "      <td>0</td>\n",
       "    </tr>\n",
       "    <tr>\n",
       "      <th>2</th>\n",
       "      <td>4141</td>\n",
       "      <td>1965</td>\n",
       "      <td>Graduation</td>\n",
       "      <td>Together</td>\n",
       "      <td>71613.0</td>\n",
       "      <td>0</td>\n",
       "      <td>0</td>\n",
       "      <td>21-08-2013</td>\n",
       "      <td>26</td>\n",
       "      <td>426</td>\n",
       "      <td>...</td>\n",
       "      <td>4</td>\n",
       "      <td>0</td>\n",
       "      <td>0</td>\n",
       "      <td>0</td>\n",
       "      <td>0</td>\n",
       "      <td>0</td>\n",
       "      <td>0</td>\n",
       "      <td>3</td>\n",
       "      <td>11</td>\n",
       "      <td>0</td>\n",
       "    </tr>\n",
       "    <tr>\n",
       "      <th>3</th>\n",
       "      <td>6182</td>\n",
       "      <td>1984</td>\n",
       "      <td>Graduation</td>\n",
       "      <td>Together</td>\n",
       "      <td>26646.0</td>\n",
       "      <td>1</td>\n",
       "      <td>0</td>\n",
       "      <td>10-02-2014</td>\n",
       "      <td>26</td>\n",
       "      <td>11</td>\n",
       "      <td>...</td>\n",
       "      <td>6</td>\n",
       "      <td>0</td>\n",
       "      <td>0</td>\n",
       "      <td>0</td>\n",
       "      <td>0</td>\n",
       "      <td>0</td>\n",
       "      <td>0</td>\n",
       "      <td>3</td>\n",
       "      <td>11</td>\n",
       "      <td>0</td>\n",
       "    </tr>\n",
       "    <tr>\n",
       "      <th>4</th>\n",
       "      <td>5324</td>\n",
       "      <td>1981</td>\n",
       "      <td>PhD</td>\n",
       "      <td>Married</td>\n",
       "      <td>58293.0</td>\n",
       "      <td>1</td>\n",
       "      <td>0</td>\n",
       "      <td>19-01-2014</td>\n",
       "      <td>94</td>\n",
       "      <td>173</td>\n",
       "      <td>...</td>\n",
       "      <td>5</td>\n",
       "      <td>0</td>\n",
       "      <td>0</td>\n",
       "      <td>0</td>\n",
       "      <td>0</td>\n",
       "      <td>0</td>\n",
       "      <td>0</td>\n",
       "      <td>3</td>\n",
       "      <td>11</td>\n",
       "      <td>0</td>\n",
       "    </tr>\n",
       "    <tr>\n",
       "      <th>...</th>\n",
       "      <td>...</td>\n",
       "      <td>...</td>\n",
       "      <td>...</td>\n",
       "      <td>...</td>\n",
       "      <td>...</td>\n",
       "      <td>...</td>\n",
       "      <td>...</td>\n",
       "      <td>...</td>\n",
       "      <td>...</td>\n",
       "      <td>...</td>\n",
       "      <td>...</td>\n",
       "      <td>...</td>\n",
       "      <td>...</td>\n",
       "      <td>...</td>\n",
       "      <td>...</td>\n",
       "      <td>...</td>\n",
       "      <td>...</td>\n",
       "      <td>...</td>\n",
       "      <td>...</td>\n",
       "      <td>...</td>\n",
       "      <td>...</td>\n",
       "    </tr>\n",
       "    <tr>\n",
       "      <th>2235</th>\n",
       "      <td>10870</td>\n",
       "      <td>1967</td>\n",
       "      <td>Graduation</td>\n",
       "      <td>Married</td>\n",
       "      <td>61223.0</td>\n",
       "      <td>0</td>\n",
       "      <td>1</td>\n",
       "      <td>13-06-2013</td>\n",
       "      <td>46</td>\n",
       "      <td>709</td>\n",
       "      <td>...</td>\n",
       "      <td>5</td>\n",
       "      <td>0</td>\n",
       "      <td>0</td>\n",
       "      <td>0</td>\n",
       "      <td>0</td>\n",
       "      <td>0</td>\n",
       "      <td>0</td>\n",
       "      <td>3</td>\n",
       "      <td>11</td>\n",
       "      <td>0</td>\n",
       "    </tr>\n",
       "    <tr>\n",
       "      <th>2236</th>\n",
       "      <td>4001</td>\n",
       "      <td>1946</td>\n",
       "      <td>PhD</td>\n",
       "      <td>Together</td>\n",
       "      <td>64014.0</td>\n",
       "      <td>2</td>\n",
       "      <td>1</td>\n",
       "      <td>10-06-2014</td>\n",
       "      <td>56</td>\n",
       "      <td>406</td>\n",
       "      <td>...</td>\n",
       "      <td>7</td>\n",
       "      <td>0</td>\n",
       "      <td>0</td>\n",
       "      <td>0</td>\n",
       "      <td>1</td>\n",
       "      <td>0</td>\n",
       "      <td>0</td>\n",
       "      <td>3</td>\n",
       "      <td>11</td>\n",
       "      <td>0</td>\n",
       "    </tr>\n",
       "    <tr>\n",
       "      <th>2237</th>\n",
       "      <td>7270</td>\n",
       "      <td>1981</td>\n",
       "      <td>Graduation</td>\n",
       "      <td>Divorced</td>\n",
       "      <td>56981.0</td>\n",
       "      <td>0</td>\n",
       "      <td>0</td>\n",
       "      <td>25-01-2014</td>\n",
       "      <td>91</td>\n",
       "      <td>908</td>\n",
       "      <td>...</td>\n",
       "      <td>6</td>\n",
       "      <td>0</td>\n",
       "      <td>1</td>\n",
       "      <td>0</td>\n",
       "      <td>0</td>\n",
       "      <td>0</td>\n",
       "      <td>0</td>\n",
       "      <td>3</td>\n",
       "      <td>11</td>\n",
       "      <td>0</td>\n",
       "    </tr>\n",
       "    <tr>\n",
       "      <th>2238</th>\n",
       "      <td>8235</td>\n",
       "      <td>1956</td>\n",
       "      <td>Master</td>\n",
       "      <td>Together</td>\n",
       "      <td>69245.0</td>\n",
       "      <td>0</td>\n",
       "      <td>1</td>\n",
       "      <td>24-01-2014</td>\n",
       "      <td>8</td>\n",
       "      <td>428</td>\n",
       "      <td>...</td>\n",
       "      <td>3</td>\n",
       "      <td>0</td>\n",
       "      <td>0</td>\n",
       "      <td>0</td>\n",
       "      <td>0</td>\n",
       "      <td>0</td>\n",
       "      <td>0</td>\n",
       "      <td>3</td>\n",
       "      <td>11</td>\n",
       "      <td>0</td>\n",
       "    </tr>\n",
       "    <tr>\n",
       "      <th>2239</th>\n",
       "      <td>9405</td>\n",
       "      <td>1954</td>\n",
       "      <td>PhD</td>\n",
       "      <td>Married</td>\n",
       "      <td>52869.0</td>\n",
       "      <td>1</td>\n",
       "      <td>1</td>\n",
       "      <td>15-10-2012</td>\n",
       "      <td>40</td>\n",
       "      <td>84</td>\n",
       "      <td>...</td>\n",
       "      <td>7</td>\n",
       "      <td>0</td>\n",
       "      <td>0</td>\n",
       "      <td>0</td>\n",
       "      <td>0</td>\n",
       "      <td>0</td>\n",
       "      <td>0</td>\n",
       "      <td>3</td>\n",
       "      <td>11</td>\n",
       "      <td>1</td>\n",
       "    </tr>\n",
       "  </tbody>\n",
       "</table>\n",
       "<p>2240 rows × 29 columns</p>\n",
       "</div>"
      ],
      "text/plain": [
       "         ID  Year_Birth   Education Marital_Status   Income  Kidhome  \\\n",
       "0      5524        1957  Graduation         Single  58138.0        0   \n",
       "1      2174        1954  Graduation         Single  46344.0        1   \n",
       "2      4141        1965  Graduation       Together  71613.0        0   \n",
       "3      6182        1984  Graduation       Together  26646.0        1   \n",
       "4      5324        1981         PhD        Married  58293.0        1   \n",
       "...     ...         ...         ...            ...      ...      ...   \n",
       "2235  10870        1967  Graduation        Married  61223.0        0   \n",
       "2236   4001        1946         PhD       Together  64014.0        2   \n",
       "2237   7270        1981  Graduation       Divorced  56981.0        0   \n",
       "2238   8235        1956      Master       Together  69245.0        0   \n",
       "2239   9405        1954         PhD        Married  52869.0        1   \n",
       "\n",
       "      Teenhome Dt_Customer  Recency  MntWines  ...  NumWebVisitsMonth  \\\n",
       "0            0  04-09-2012       58       635  ...                  7   \n",
       "1            1  08-03-2014       38        11  ...                  5   \n",
       "2            0  21-08-2013       26       426  ...                  4   \n",
       "3            0  10-02-2014       26        11  ...                  6   \n",
       "4            0  19-01-2014       94       173  ...                  5   \n",
       "...        ...         ...      ...       ...  ...                ...   \n",
       "2235         1  13-06-2013       46       709  ...                  5   \n",
       "2236         1  10-06-2014       56       406  ...                  7   \n",
       "2237         0  25-01-2014       91       908  ...                  6   \n",
       "2238         1  24-01-2014        8       428  ...                  3   \n",
       "2239         1  15-10-2012       40        84  ...                  7   \n",
       "\n",
       "      AcceptedCmp3  AcceptedCmp4  AcceptedCmp5  AcceptedCmp1  AcceptedCmp2  \\\n",
       "0                0             0             0             0             0   \n",
       "1                0             0             0             0             0   \n",
       "2                0             0             0             0             0   \n",
       "3                0             0             0             0             0   \n",
       "4                0             0             0             0             0   \n",
       "...            ...           ...           ...           ...           ...   \n",
       "2235             0             0             0             0             0   \n",
       "2236             0             0             0             1             0   \n",
       "2237             0             1             0             0             0   \n",
       "2238             0             0             0             0             0   \n",
       "2239             0             0             0             0             0   \n",
       "\n",
       "      Complain  Z_CostContact  Z_Revenue  Response  \n",
       "0            0              3         11         1  \n",
       "1            0              3         11         0  \n",
       "2            0              3         11         0  \n",
       "3            0              3         11         0  \n",
       "4            0              3         11         0  \n",
       "...        ...            ...        ...       ...  \n",
       "2235         0              3         11         0  \n",
       "2236         0              3         11         0  \n",
       "2237         0              3         11         0  \n",
       "2238         0              3         11         0  \n",
       "2239         0              3         11         1  \n",
       "\n",
       "[2240 rows x 29 columns]"
      ]
     },
     "execution_count": 2,
     "metadata": {},
     "output_type": "execute_result"
    }
   ],
   "source": [
    "marketing_df=pd.read_csv('marketing_campaign.csv', delimiter='\\t')\n",
    "marketing_df\n",
    "#will helped me with the delimiter part since I was a bit lost as neither dataset was 'working'"
   ]
  },
  {
   "cell_type": "code",
   "execution_count": 3,
   "id": "f25fcc2f-360b-456d-84ba-9b37d92554d4",
   "metadata": {},
   "outputs": [],
   "source": [
    "# putting this one as a comment since it's super long and I'm just trying to see if there are any null values(there are not)\n",
    "# marketing_df['Year_Birth'].value_counts()"
   ]
  },
  {
   "cell_type": "code",
   "execution_count": 4,
   "id": "977aef74-8b5d-4212-b506-9a048efebe3c",
   "metadata": {},
   "outputs": [
    {
     "data": {
      "text/plain": [
       "Marital_Status\n",
       "Married     864\n",
       "Together    580\n",
       "Single      480\n",
       "Divorced    232\n",
       "Widow        77\n",
       "Alone         3\n",
       "Absurd        2\n",
       "YOLO          2\n",
       "Name: count, dtype: int64"
      ]
     },
     "execution_count": 4,
     "metadata": {},
     "output_type": "execute_result"
    }
   ],
   "source": [
    "marketing_df['Marital_Status'].value_counts()"
   ]
  },
  {
   "cell_type": "code",
   "execution_count": 5,
   "id": "ff244d6a-1c17-4aab-9e11-9018a148a336",
   "metadata": {},
   "outputs": [
    {
     "data": {
      "text/plain": [
       "Education\n",
       "Graduation    1127\n",
       "PhD            486\n",
       "Master         370\n",
       "2n Cycle       203\n",
       "Basic           54\n",
       "Name: count, dtype: int64"
      ]
     },
     "execution_count": 5,
     "metadata": {},
     "output_type": "execute_result"
    }
   ],
   "source": [
    "marketing_df['Education'].value_counts()"
   ]
  },
  {
   "cell_type": "code",
   "execution_count": 6,
   "id": "bda89797-2636-4445-a0d7-673c8bf20480",
   "metadata": {},
   "outputs": [
    {
     "data": {
      "text/plain": [
       "Income\n",
       "7500.0     12\n",
       "35860.0     4\n",
       "37760.0     3\n",
       "83844.0     3\n",
       "63841.0     3\n",
       "           ..\n",
       "40760.0     1\n",
       "41452.0     1\n",
       "6835.0      1\n",
       "33622.0     1\n",
       "52869.0     1\n",
       "Name: count, Length: 1974, dtype: int64"
      ]
     },
     "execution_count": 6,
     "metadata": {},
     "output_type": "execute_result"
    }
   ],
   "source": [
    "marketing_df['Income'].value_counts()"
   ]
  },
  {
   "cell_type": "code",
   "execution_count": 7,
   "id": "5f1d7389-48cb-47f8-91f1-8b3f51fdd61e",
   "metadata": {},
   "outputs": [
    {
     "data": {
      "text/plain": [
       "Kidhome\n",
       "0    1293\n",
       "1     899\n",
       "2      48\n",
       "Name: count, dtype: int64"
      ]
     },
     "execution_count": 7,
     "metadata": {},
     "output_type": "execute_result"
    }
   ],
   "source": [
    "marketing_df['Kidhome'].value_counts()"
   ]
  },
  {
   "cell_type": "code",
   "execution_count": 8,
   "id": "5c04e23e-495a-447e-b96c-461ddc23154b",
   "metadata": {},
   "outputs": [
    {
     "data": {
      "text/plain": [
       "Teenhome\n",
       "0    1158\n",
       "1    1030\n",
       "2      52\n",
       "Name: count, dtype: int64"
      ]
     },
     "execution_count": 8,
     "metadata": {},
     "output_type": "execute_result"
    }
   ],
   "source": [
    "marketing_df['Teenhome'].value_counts()"
   ]
  },
  {
   "cell_type": "code",
   "execution_count": 9,
   "id": "60e65385-9ca8-4018-881d-2b3e204b2970",
   "metadata": {},
   "outputs": [
    {
     "data": {
      "text/plain": [
       "Dt_Customer\n",
       "31-08-2012    12\n",
       "12-09-2012    11\n",
       "14-02-2013    11\n",
       "12-05-2014    11\n",
       "20-08-2013    10\n",
       "              ..\n",
       "05-08-2012     1\n",
       "18-11-2012     1\n",
       "25-05-2013     1\n",
       "14-04-2013     1\n",
       "09-01-2014     1\n",
       "Name: count, Length: 663, dtype: int64"
      ]
     },
     "execution_count": 9,
     "metadata": {},
     "output_type": "execute_result"
    }
   ],
   "source": [
    "marketing_df['Dt_Customer'].value_counts()"
   ]
  },
  {
   "cell_type": "code",
   "execution_count": 10,
   "id": "10718e76-51b4-427a-9345-4409bcd7b7e4",
   "metadata": {},
   "outputs": [
    {
     "data": {
      "text/plain": [
       "Recency\n",
       "56    37\n",
       "30    32\n",
       "54    32\n",
       "46    31\n",
       "92    30\n",
       "      ..\n",
       "41    15\n",
       "59    14\n",
       "22    13\n",
       "7     12\n",
       "44    11\n",
       "Name: count, Length: 100, dtype: int64"
      ]
     },
     "execution_count": 10,
     "metadata": {},
     "output_type": "execute_result"
    }
   ],
   "source": [
    "marketing_df['Recency'].value_counts()"
   ]
  },
  {
   "cell_type": "code",
   "execution_count": 11,
   "id": "7288670c-36e3-45c9-b54e-64ca696cfe87",
   "metadata": {},
   "outputs": [
    {
     "data": {
      "text/plain": [
       "MntWines\n",
       "2       42\n",
       "5       40\n",
       "1       37\n",
       "6       37\n",
       "4       33\n",
       "        ..\n",
       "806      1\n",
       "61       1\n",
       "986      1\n",
       "1230     1\n",
       "428      1\n",
       "Name: count, Length: 776, dtype: int64"
      ]
     },
     "execution_count": 11,
     "metadata": {},
     "output_type": "execute_result"
    }
   ],
   "source": [
    "marketing_df['MntWines'].value_counts()"
   ]
  },
  {
   "cell_type": "code",
   "execution_count": 12,
   "id": "5ef3b41e-3fce-4b05-94b9-63a14a4497c5",
   "metadata": {},
   "outputs": [
    {
     "data": {
      "text/plain": [
       "NumWebVisitsMonth\n",
       "7     393\n",
       "8     342\n",
       "6     340\n",
       "5     281\n",
       "4     218\n",
       "3     205\n",
       "2     202\n",
       "1     153\n",
       "9      83\n",
       "0      11\n",
       "20      3\n",
       "10      3\n",
       "14      2\n",
       "19      2\n",
       "17      1\n",
       "13      1\n",
       "Name: count, dtype: int64"
      ]
     },
     "execution_count": 12,
     "metadata": {},
     "output_type": "execute_result"
    }
   ],
   "source": [
    "marketing_df['NumWebVisitsMonth'].value_counts()"
   ]
  },
  {
   "cell_type": "code",
   "execution_count": 13,
   "id": "438adc16-bc11-41e2-a77e-cc71feb081c3",
   "metadata": {},
   "outputs": [
    {
     "data": {
      "text/plain": [
       "AcceptedCmp1\n",
       "0    2096\n",
       "1     144\n",
       "Name: count, dtype: int64"
      ]
     },
     "execution_count": 13,
     "metadata": {},
     "output_type": "execute_result"
    }
   ],
   "source": [
    "marketing_df['AcceptedCmp1'].value_counts()"
   ]
  },
  {
   "cell_type": "code",
   "execution_count": 14,
   "id": "4266ee8d-fef9-4f9b-a942-a55d01f1b50b",
   "metadata": {},
   "outputs": [
    {
     "data": {
      "text/plain": [
       "AcceptedCmp2\n",
       "0    2210\n",
       "1      30\n",
       "Name: count, dtype: int64"
      ]
     },
     "execution_count": 14,
     "metadata": {},
     "output_type": "execute_result"
    }
   ],
   "source": [
    "marketing_df['AcceptedCmp2'].value_counts()"
   ]
  },
  {
   "cell_type": "code",
   "execution_count": 15,
   "id": "16951a84-78cd-4654-aeae-b5bf5a1f69a8",
   "metadata": {},
   "outputs": [
    {
     "data": {
      "text/plain": [
       "AcceptedCmp3\n",
       "0    2077\n",
       "1     163\n",
       "Name: count, dtype: int64"
      ]
     },
     "execution_count": 15,
     "metadata": {},
     "output_type": "execute_result"
    }
   ],
   "source": [
    "marketing_df['AcceptedCmp3'].value_counts()"
   ]
  },
  {
   "cell_type": "code",
   "execution_count": 16,
   "id": "419eda3e-0601-4369-bdcb-a099b9b1dacb",
   "metadata": {},
   "outputs": [
    {
     "data": {
      "text/plain": [
       "AcceptedCmp4\n",
       "0    2073\n",
       "1     167\n",
       "Name: count, dtype: int64"
      ]
     },
     "execution_count": 16,
     "metadata": {},
     "output_type": "execute_result"
    }
   ],
   "source": [
    "marketing_df['AcceptedCmp4'].value_counts()"
   ]
  },
  {
   "cell_type": "code",
   "execution_count": 17,
   "id": "3ef4f49c-afbe-402f-9521-b551f0b909b2",
   "metadata": {},
   "outputs": [
    {
     "data": {
      "text/plain": [
       "AcceptedCmp5\n",
       "0    2077\n",
       "1     163\n",
       "Name: count, dtype: int64"
      ]
     },
     "execution_count": 17,
     "metadata": {},
     "output_type": "execute_result"
    }
   ],
   "source": [
    "marketing_df['AcceptedCmp5'].value_counts()"
   ]
  },
  {
   "cell_type": "code",
   "execution_count": 18,
   "id": "63b46905-0f35-4bd7-b039-e5e9535e6618",
   "metadata": {},
   "outputs": [
    {
     "data": {
      "text/plain": [
       "Complain\n",
       "0    2219\n",
       "1      21\n",
       "Name: count, dtype: int64"
      ]
     },
     "execution_count": 18,
     "metadata": {},
     "output_type": "execute_result"
    }
   ],
   "source": [
    "marketing_df['Complain'].value_counts()"
   ]
  },
  {
   "cell_type": "code",
   "execution_count": 19,
   "id": "8b461cf5-a187-4b9c-b977-d428b654bb50",
   "metadata": {},
   "outputs": [
    {
     "data": {
      "text/plain": [
       "Z_CostContact\n",
       "3    2240\n",
       "Name: count, dtype: int64"
      ]
     },
     "execution_count": 19,
     "metadata": {},
     "output_type": "execute_result"
    }
   ],
   "source": [
    "marketing_df['Z_CostContact'].value_counts()"
   ]
  },
  {
   "cell_type": "code",
   "execution_count": 20,
   "id": "106e5c0f-d604-4b56-bcc0-3a40d7817457",
   "metadata": {},
   "outputs": [
    {
     "data": {
      "text/plain": [
       "Z_Revenue\n",
       "11    2240\n",
       "Name: count, dtype: int64"
      ]
     },
     "execution_count": 20,
     "metadata": {},
     "output_type": "execute_result"
    }
   ],
   "source": [
    "marketing_df['Z_Revenue'].value_counts()"
   ]
  },
  {
   "cell_type": "code",
   "execution_count": 21,
   "id": "b38336d0-19b1-4bb7-95a2-5650b0a47113",
   "metadata": {},
   "outputs": [
    {
     "data": {
      "text/plain": [
       "Response\n",
       "0    1906\n",
       "1     334\n",
       "Name: count, dtype: int64"
      ]
     },
     "execution_count": 21,
     "metadata": {},
     "output_type": "execute_result"
    }
   ],
   "source": [
    "marketing_df['Response'].value_counts()"
   ]
  },
  {
   "cell_type": "markdown",
   "id": "5e097d89-a96a-4944-a66d-793c974e8dfc",
   "metadata": {},
   "source": [
    "Through this we see that there are no null values meaning I just have to change a few columns so they are easier to work with (marital status, education, and date) "
   ]
  },
  {
   "cell_type": "code",
   "execution_count": 22,
   "id": "6d151fe3-c594-4120-b1de-e2ad4294c934",
   "metadata": {},
   "outputs": [],
   "source": [
    "marketing_df['Dt_Customer'] = pd.to_datetime(marketing_df['Dt_Customer'], format='%d-%m-%Y')\n",
    "marketing_df['Dt_Customer'] = pd.to_datetime(marketing_df['Dt_Customer'])\n",
    "\n",
    "marketing_df['year'] = marketing_df['Dt_Customer'].dt.year\n",
    "marketing_df['month'] = marketing_df['Dt_Customer'].dt.month\n",
    "marketing_df['day'] = marketing_df['Dt_Customer'].dt.day\n",
    "\n",
    "reference_date = pd.to_datetime('30-07-2012', format='%d-%m-%Y')\n",
    "marketing_df['days_difference'] = (marketing_df['Dt_Customer'] - reference_date).dt.days\n",
    "# made columns for the month, day, and year in case certain months or times of the months seemed to have big impacts but also \n",
    "# took the earliest date and based all dates off of that, July 30, 2012 should be 0; July 31, 2012 should be 1; August 1, 2012 should be 2 and etc.\n",
    "# called days_difference (days since July 30, 2012)"
   ]
  },
  {
   "cell_type": "code",
   "execution_count": 23,
   "id": "60478ebb-cdf9-4781-bd5e-25db1217029e",
   "metadata": {},
   "outputs": [],
   "source": [
    "#no clue what absurd and yolo mean in this case so I'm just going to put them as a 5 since I'm going to assume they mean single\n",
    "marketing_df['Marital_Status']=marketing_df['Marital_Status'].map(lambda x: 1 if 'Married' in x\n",
    "                                                                  else 2 if 'Together' in x\n",
    "                                                                  else 3 if 'Divorced' in x\n",
    "                                                                  else 4 if 'Widow' in x\n",
    "                                                                  else 5)"
   ]
  },
  {
   "cell_type": "code",
   "execution_count": 25,
   "id": "9a369f57-6299-462c-abea-96f8f6582ee0",
   "metadata": {},
   "outputs": [
    {
     "data": {
      "text/plain": [
       "Education\n",
       "Graduation    1127\n",
       "PhD            486\n",
       "Master         370\n",
       "2n Cycle       203\n",
       "Basic           54\n",
       "Name: count, dtype: int64"
      ]
     },
     "execution_count": 25,
     "metadata": {},
     "output_type": "execute_result"
    }
   ],
   "source": [
    "marketing_df['Education'].value_counts()"
   ]
  },
  {
   "cell_type": "code",
   "execution_count": 26,
   "id": "628cc9d3-9987-421d-bd17-54b7c38c48f2",
   "metadata": {},
   "outputs": [],
   "source": [
    "marketing_df['Education']=marketing_df['Education'].map(lambda x: 1 if 'PhD' in x\n",
    "                                                        else 2 if 'Master' in x\n",
    "                                                        else 3 if 'Graduation' in x\n",
    "                                                        else 4 if '2n Cycle' in x\n",
    "                                                        else 5)"
   ]
  },
  {
   "cell_type": "code",
   "execution_count": 27,
   "id": "9a950939-2706-43fd-af8a-08511581e07d",
   "metadata": {},
   "outputs": [],
   "source": [
    "marketing_df.drop('Dt_Customer', axis=1, inplace=True)"
   ]
  },
  {
   "cell_type": "code",
   "execution_count": 28,
   "id": "e3d79ce2-f3f6-4b15-ad4f-203045443d62",
   "metadata": {},
   "outputs": [
    {
     "data": {
      "text/plain": [
       "51381.5"
      ]
     },
     "execution_count": 28,
     "metadata": {},
     "output_type": "execute_result"
    }
   ],
   "source": [
    "marketing_df['Income'].median()"
   ]
  },
  {
   "cell_type": "code",
   "execution_count": 29,
   "id": "594eeaff-a93c-4fe1-9820-c71830755c51",
   "metadata": {},
   "outputs": [
    {
     "name": "stderr",
     "output_type": "stream",
     "text": [
      "C:\\Users\\brady\\AppData\\Local\\Temp\\ipykernel_17124\\2519886568.py:6: FutureWarning: A value is trying to be set on a copy of a DataFrame or Series through chained assignment using an inplace method.\n",
      "The behavior will change in pandas 3.0. This inplace method will never work because the intermediate object on which we are setting values always behaves as a copy.\n",
      "\n",
      "For example, when doing 'df[col].method(value, inplace=True)', try using 'df.method({col: value}, inplace=True)' or df[col] = df[col].method(value) instead, to perform the operation inplace on the original object.\n",
      "\n",
      "\n",
      "  marketing_df['Income'].fillna(replacement_value, inplace=True)\n"
     ]
    }
   ],
   "source": [
    "# I learned that the income column had null values so I guess the value_counts() doesnt tell me if there are null values\n",
    "# so I had to fix those accordingly\n",
    "nan_index = marketing_df.index[marketing_df.isna().any(axis=1)].tolist()[0] \n",
    "nan_column = marketing_df.columns[marketing_df.isna().any()].tolist()[0]   \n",
    "replacement_value = 51381\n",
    "marketing_df['Income'].fillna(replacement_value, inplace=True)"
   ]
  },
  {
   "cell_type": "code",
   "execution_count": 30,
   "id": "5c7467fd-88ff-425c-a6c6-7caeb95331d0",
   "metadata": {},
   "outputs": [
    {
     "data": {
      "text/html": [
       "<div>\n",
       "<style scoped>\n",
       "    .dataframe tbody tr th:only-of-type {\n",
       "        vertical-align: middle;\n",
       "    }\n",
       "\n",
       "    .dataframe tbody tr th {\n",
       "        vertical-align: top;\n",
       "    }\n",
       "\n",
       "    .dataframe thead th {\n",
       "        text-align: right;\n",
       "    }\n",
       "</style>\n",
       "<table border=\"1\" class=\"dataframe\">\n",
       "  <thead>\n",
       "    <tr style=\"text-align: right;\">\n",
       "      <th></th>\n",
       "      <th>ID</th>\n",
       "      <th>Year_Birth</th>\n",
       "      <th>Education</th>\n",
       "      <th>Marital_Status</th>\n",
       "      <th>Income</th>\n",
       "      <th>Kidhome</th>\n",
       "      <th>Teenhome</th>\n",
       "      <th>Recency</th>\n",
       "      <th>MntWines</th>\n",
       "      <th>MntFruits</th>\n",
       "      <th>...</th>\n",
       "      <th>AcceptedCmp1</th>\n",
       "      <th>AcceptedCmp2</th>\n",
       "      <th>Complain</th>\n",
       "      <th>Z_CostContact</th>\n",
       "      <th>Z_Revenue</th>\n",
       "      <th>Response</th>\n",
       "      <th>year</th>\n",
       "      <th>month</th>\n",
       "      <th>day</th>\n",
       "      <th>days_difference</th>\n",
       "    </tr>\n",
       "  </thead>\n",
       "  <tbody>\n",
       "    <tr>\n",
       "      <th>0</th>\n",
       "      <td>5524</td>\n",
       "      <td>1957</td>\n",
       "      <td>3</td>\n",
       "      <td>5</td>\n",
       "      <td>58138.0</td>\n",
       "      <td>0</td>\n",
       "      <td>0</td>\n",
       "      <td>58</td>\n",
       "      <td>635</td>\n",
       "      <td>88</td>\n",
       "      <td>...</td>\n",
       "      <td>0</td>\n",
       "      <td>0</td>\n",
       "      <td>0</td>\n",
       "      <td>3</td>\n",
       "      <td>11</td>\n",
       "      <td>1</td>\n",
       "      <td>2012</td>\n",
       "      <td>9</td>\n",
       "      <td>4</td>\n",
       "      <td>36</td>\n",
       "    </tr>\n",
       "    <tr>\n",
       "      <th>1</th>\n",
       "      <td>2174</td>\n",
       "      <td>1954</td>\n",
       "      <td>3</td>\n",
       "      <td>5</td>\n",
       "      <td>46344.0</td>\n",
       "      <td>1</td>\n",
       "      <td>1</td>\n",
       "      <td>38</td>\n",
       "      <td>11</td>\n",
       "      <td>1</td>\n",
       "      <td>...</td>\n",
       "      <td>0</td>\n",
       "      <td>0</td>\n",
       "      <td>0</td>\n",
       "      <td>3</td>\n",
       "      <td>11</td>\n",
       "      <td>0</td>\n",
       "      <td>2014</td>\n",
       "      <td>3</td>\n",
       "      <td>8</td>\n",
       "      <td>586</td>\n",
       "    </tr>\n",
       "    <tr>\n",
       "      <th>2</th>\n",
       "      <td>4141</td>\n",
       "      <td>1965</td>\n",
       "      <td>3</td>\n",
       "      <td>2</td>\n",
       "      <td>71613.0</td>\n",
       "      <td>0</td>\n",
       "      <td>0</td>\n",
       "      <td>26</td>\n",
       "      <td>426</td>\n",
       "      <td>49</td>\n",
       "      <td>...</td>\n",
       "      <td>0</td>\n",
       "      <td>0</td>\n",
       "      <td>0</td>\n",
       "      <td>3</td>\n",
       "      <td>11</td>\n",
       "      <td>0</td>\n",
       "      <td>2013</td>\n",
       "      <td>8</td>\n",
       "      <td>21</td>\n",
       "      <td>387</td>\n",
       "    </tr>\n",
       "    <tr>\n",
       "      <th>3</th>\n",
       "      <td>6182</td>\n",
       "      <td>1984</td>\n",
       "      <td>3</td>\n",
       "      <td>2</td>\n",
       "      <td>26646.0</td>\n",
       "      <td>1</td>\n",
       "      <td>0</td>\n",
       "      <td>26</td>\n",
       "      <td>11</td>\n",
       "      <td>4</td>\n",
       "      <td>...</td>\n",
       "      <td>0</td>\n",
       "      <td>0</td>\n",
       "      <td>0</td>\n",
       "      <td>3</td>\n",
       "      <td>11</td>\n",
       "      <td>0</td>\n",
       "      <td>2014</td>\n",
       "      <td>2</td>\n",
       "      <td>10</td>\n",
       "      <td>560</td>\n",
       "    </tr>\n",
       "    <tr>\n",
       "      <th>4</th>\n",
       "      <td>5324</td>\n",
       "      <td>1981</td>\n",
       "      <td>1</td>\n",
       "      <td>1</td>\n",
       "      <td>58293.0</td>\n",
       "      <td>1</td>\n",
       "      <td>0</td>\n",
       "      <td>94</td>\n",
       "      <td>173</td>\n",
       "      <td>43</td>\n",
       "      <td>...</td>\n",
       "      <td>0</td>\n",
       "      <td>0</td>\n",
       "      <td>0</td>\n",
       "      <td>3</td>\n",
       "      <td>11</td>\n",
       "      <td>0</td>\n",
       "      <td>2014</td>\n",
       "      <td>1</td>\n",
       "      <td>19</td>\n",
       "      <td>538</td>\n",
       "    </tr>\n",
       "    <tr>\n",
       "      <th>...</th>\n",
       "      <td>...</td>\n",
       "      <td>...</td>\n",
       "      <td>...</td>\n",
       "      <td>...</td>\n",
       "      <td>...</td>\n",
       "      <td>...</td>\n",
       "      <td>...</td>\n",
       "      <td>...</td>\n",
       "      <td>...</td>\n",
       "      <td>...</td>\n",
       "      <td>...</td>\n",
       "      <td>...</td>\n",
       "      <td>...</td>\n",
       "      <td>...</td>\n",
       "      <td>...</td>\n",
       "      <td>...</td>\n",
       "      <td>...</td>\n",
       "      <td>...</td>\n",
       "      <td>...</td>\n",
       "      <td>...</td>\n",
       "      <td>...</td>\n",
       "    </tr>\n",
       "    <tr>\n",
       "      <th>2235</th>\n",
       "      <td>10870</td>\n",
       "      <td>1967</td>\n",
       "      <td>3</td>\n",
       "      <td>1</td>\n",
       "      <td>61223.0</td>\n",
       "      <td>0</td>\n",
       "      <td>1</td>\n",
       "      <td>46</td>\n",
       "      <td>709</td>\n",
       "      <td>43</td>\n",
       "      <td>...</td>\n",
       "      <td>0</td>\n",
       "      <td>0</td>\n",
       "      <td>0</td>\n",
       "      <td>3</td>\n",
       "      <td>11</td>\n",
       "      <td>0</td>\n",
       "      <td>2013</td>\n",
       "      <td>6</td>\n",
       "      <td>13</td>\n",
       "      <td>318</td>\n",
       "    </tr>\n",
       "    <tr>\n",
       "      <th>2236</th>\n",
       "      <td>4001</td>\n",
       "      <td>1946</td>\n",
       "      <td>1</td>\n",
       "      <td>2</td>\n",
       "      <td>64014.0</td>\n",
       "      <td>2</td>\n",
       "      <td>1</td>\n",
       "      <td>56</td>\n",
       "      <td>406</td>\n",
       "      <td>0</td>\n",
       "      <td>...</td>\n",
       "      <td>1</td>\n",
       "      <td>0</td>\n",
       "      <td>0</td>\n",
       "      <td>3</td>\n",
       "      <td>11</td>\n",
       "      <td>0</td>\n",
       "      <td>2014</td>\n",
       "      <td>6</td>\n",
       "      <td>10</td>\n",
       "      <td>680</td>\n",
       "    </tr>\n",
       "    <tr>\n",
       "      <th>2237</th>\n",
       "      <td>7270</td>\n",
       "      <td>1981</td>\n",
       "      <td>3</td>\n",
       "      <td>3</td>\n",
       "      <td>56981.0</td>\n",
       "      <td>0</td>\n",
       "      <td>0</td>\n",
       "      <td>91</td>\n",
       "      <td>908</td>\n",
       "      <td>48</td>\n",
       "      <td>...</td>\n",
       "      <td>0</td>\n",
       "      <td>0</td>\n",
       "      <td>0</td>\n",
       "      <td>3</td>\n",
       "      <td>11</td>\n",
       "      <td>0</td>\n",
       "      <td>2014</td>\n",
       "      <td>1</td>\n",
       "      <td>25</td>\n",
       "      <td>544</td>\n",
       "    </tr>\n",
       "    <tr>\n",
       "      <th>2238</th>\n",
       "      <td>8235</td>\n",
       "      <td>1956</td>\n",
       "      <td>2</td>\n",
       "      <td>2</td>\n",
       "      <td>69245.0</td>\n",
       "      <td>0</td>\n",
       "      <td>1</td>\n",
       "      <td>8</td>\n",
       "      <td>428</td>\n",
       "      <td>30</td>\n",
       "      <td>...</td>\n",
       "      <td>0</td>\n",
       "      <td>0</td>\n",
       "      <td>0</td>\n",
       "      <td>3</td>\n",
       "      <td>11</td>\n",
       "      <td>0</td>\n",
       "      <td>2014</td>\n",
       "      <td>1</td>\n",
       "      <td>24</td>\n",
       "      <td>543</td>\n",
       "    </tr>\n",
       "    <tr>\n",
       "      <th>2239</th>\n",
       "      <td>9405</td>\n",
       "      <td>1954</td>\n",
       "      <td>1</td>\n",
       "      <td>1</td>\n",
       "      <td>52869.0</td>\n",
       "      <td>1</td>\n",
       "      <td>1</td>\n",
       "      <td>40</td>\n",
       "      <td>84</td>\n",
       "      <td>3</td>\n",
       "      <td>...</td>\n",
       "      <td>0</td>\n",
       "      <td>0</td>\n",
       "      <td>0</td>\n",
       "      <td>3</td>\n",
       "      <td>11</td>\n",
       "      <td>1</td>\n",
       "      <td>2012</td>\n",
       "      <td>10</td>\n",
       "      <td>15</td>\n",
       "      <td>77</td>\n",
       "    </tr>\n",
       "  </tbody>\n",
       "</table>\n",
       "<p>2240 rows × 32 columns</p>\n",
       "</div>"
      ],
      "text/plain": [
       "         ID  Year_Birth  Education  Marital_Status   Income  Kidhome  \\\n",
       "0      5524        1957          3               5  58138.0        0   \n",
       "1      2174        1954          3               5  46344.0        1   \n",
       "2      4141        1965          3               2  71613.0        0   \n",
       "3      6182        1984          3               2  26646.0        1   \n",
       "4      5324        1981          1               1  58293.0        1   \n",
       "...     ...         ...        ...             ...      ...      ...   \n",
       "2235  10870        1967          3               1  61223.0        0   \n",
       "2236   4001        1946          1               2  64014.0        2   \n",
       "2237   7270        1981          3               3  56981.0        0   \n",
       "2238   8235        1956          2               2  69245.0        0   \n",
       "2239   9405        1954          1               1  52869.0        1   \n",
       "\n",
       "      Teenhome  Recency  MntWines  MntFruits  ...  AcceptedCmp1  AcceptedCmp2  \\\n",
       "0            0       58       635         88  ...             0             0   \n",
       "1            1       38        11          1  ...             0             0   \n",
       "2            0       26       426         49  ...             0             0   \n",
       "3            0       26        11          4  ...             0             0   \n",
       "4            0       94       173         43  ...             0             0   \n",
       "...        ...      ...       ...        ...  ...           ...           ...   \n",
       "2235         1       46       709         43  ...             0             0   \n",
       "2236         1       56       406          0  ...             1             0   \n",
       "2237         0       91       908         48  ...             0             0   \n",
       "2238         1        8       428         30  ...             0             0   \n",
       "2239         1       40        84          3  ...             0             0   \n",
       "\n",
       "      Complain  Z_CostContact  Z_Revenue  Response  year  month  day  \\\n",
       "0            0              3         11         1  2012      9    4   \n",
       "1            0              3         11         0  2014      3    8   \n",
       "2            0              3         11         0  2013      8   21   \n",
       "3            0              3         11         0  2014      2   10   \n",
       "4            0              3         11         0  2014      1   19   \n",
       "...        ...            ...        ...       ...   ...    ...  ...   \n",
       "2235         0              3         11         0  2013      6   13   \n",
       "2236         0              3         11         0  2014      6   10   \n",
       "2237         0              3         11         0  2014      1   25   \n",
       "2238         0              3         11         0  2014      1   24   \n",
       "2239         0              3         11         1  2012     10   15   \n",
       "\n",
       "      days_difference  \n",
       "0                  36  \n",
       "1                 586  \n",
       "2                 387  \n",
       "3                 560  \n",
       "4                 538  \n",
       "...               ...  \n",
       "2235              318  \n",
       "2236              680  \n",
       "2237              544  \n",
       "2238              543  \n",
       "2239               77  \n",
       "\n",
       "[2240 rows x 32 columns]"
      ]
     },
     "execution_count": 30,
     "metadata": {},
     "output_type": "execute_result"
    }
   ],
   "source": [
    "marketing_df"
   ]
  },
  {
   "cell_type": "code",
   "execution_count": 31,
   "id": "24ce6263-67e4-4afb-889e-2cfbc53928d9",
   "metadata": {},
   "outputs": [],
   "source": [
    "def preprocess_data(marketing_df):\n",
    "    X = marketing_df.drop('Response', axis=1)\n",
    "    y = marketing_df['Response']\n",
    "    \n",
    "    return X, y\n",
    "\n",
    "X, y = preprocess_data(marketing_df)"
   ]
  },
  {
   "cell_type": "code",
   "execution_count": 32,
   "id": "f99b3aeb-8e0b-4143-9590-91c9ae2557da",
   "metadata": {},
   "outputs": [],
   "source": [
    "def calculate_kmeans(X, max_clusters=9):\n",
    "    inertias = []\n",
    "    distortions = []\n",
    "\n",
    "    for k in range(1, max_clusters + 1):\n",
    "        model = KMeans(n_clusters=k).fit(X)\n",
    "\n",
    "        distance = cdist(X, model.cluster_centers_, 'euclidean')\n",
    "        distortion = sum(np.min(distance, axis=1)) / X.shape[0]\n",
    "        distortions.append(distortion)\n",
    "\n",
    "        inertia = model.inertia_\n",
    "        inertias.append(inertia)\n",
    "\n",
    "    return inertias, distortions\n",
    "\n",
    "inertias, distortions = calculate_kmeans(X)"
   ]
  },
  {
   "cell_type": "code",
   "execution_count": 33,
   "id": "258a6a1f-a804-4d9c-a1d8-a0f0b1d4fc04",
   "metadata": {},
   "outputs": [
    {
     "data": {
      "text/plain": [
       "Text(0.5, 1.0, 'Elbow Method with Distortion')"
      ]
     },
     "execution_count": 33,
     "metadata": {},
     "output_type": "execute_result"
    },
    {
     "data": {
      "image/png": "[encoded data removed]",
      "text/plain": [
       "<Figure size 640x480 with 1 Axes>"
      ]
     },
     "metadata": {},
     "output_type": "display_data"
    }
   ],
   "source": [
    "plt.plot(range(1,10),distortions)\n",
    "plt.title('Elbow Method with Distortion')"
   ]
  },
  {
   "cell_type": "code",
   "execution_count": 34,
   "id": "d32713cb-14fb-4746-a19a-008eb55abfab",
   "metadata": {},
   "outputs": [
    {
     "data": {
      "text/plain": [
       "Text(0.5, 1.0, 'Elbow Method with Inertia')"
      ]
     },
     "execution_count": 34,
     "metadata": {},
     "output_type": "execute_result"
    },
    {
     "data": {
      "image/png": "[encoded data removed]",
      "text/plain": [
       "<Figure size 640x480 with 1 Axes>"
      ]
     },
     "metadata": {},
     "output_type": "display_data"
    }
   ],
   "source": [
    "plt.plot(range(1,10),inertias)\n",
    "plt.title('Elbow Method with Inertia')"
   ]
  },
  {
   "cell_type": "markdown",
   "id": "d0ded580-2c92-4f7b-a9c8-b683def4fd48",
   "metadata": {},
   "source": [
    "I looked at all of the data when drawing my conclusions but I'd say we should porbably use 4 clusters. When we look at the elbow method with distortion it looks like 3 is the elbow point but when look at the elbow method with inertia it looks like 4 is the elbow point. I'm not 100% sure of this but I believe we should probably go for the higher amount in this case."
   ]
  },
  {
   "cell_type": "code",
   "execution_count": 35,
   "id": "08fd006e-4f82-4abb-a463-cf57b74517a2",
   "metadata": {},
   "outputs": [
    {
     "data": {
      "image/png": "[encoded data removed]",
      "text/plain": [
       "<Figure size 1000x700 with 1 Axes>"
      ]
     },
     "metadata": {},
     "output_type": "display_data"
    }
   ],
   "source": [
    "linked = linkage(X,'ward')\n",
    "plt.figure(figsize=(10,7))\n",
    "dendro = dendrogram(linked,labels= list(y))"
   ]
  },
  {
   "cell_type": "markdown",
   "id": "3df8a887-0bed-45a6-8326-791876ff10f1",
   "metadata": {},
   "source": [
    "From hierarchical clustering, I concluded that we should use 3 clusters as that seems to be the value that gives us the hghest total length of the lines when we add them all up"
   ]
  },
  {
   "cell_type": "markdown",
   "id": "84b4aa84-eb6c-424f-90fc-e7bcaacbace8",
   "metadata": {},
   "source": [
    "When comparing the conclusions from the elbow method and the hierarchical clustering method, I see that the answers are close(maybe even equal depending on which value you take from #2. I'm not sure which approach is better in this scenario but I would probably lean toward hierarchical clustering as it gives us one definitive answer while the elbow method differs depending on which one you use."
   ]
  }
 ],
 "metadata": {
  "kernelspec": {
   "display_name": "Python 3 (ipykernel)",
   "language": "python",
   "name": "python3"
  },
  "language_info": {
   "codemirror_mode": {
    "name": "ipython",
    "version": 3
   },
   "file_extension": ".py",
   "mimetype": "text/x-python",
   "name": "python",
   "nbconvert_exporter": "python",
   "pygments_lexer": "ipython3",
   "version": "3.9.1"
  }
 },
 "nbformat": 4,
 "nbformat_minor": 5
}
